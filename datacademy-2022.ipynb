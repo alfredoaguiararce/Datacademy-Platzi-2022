{
 "cells": [
  {
   "cell_type": "markdown",
   "id": "d5baf640",
   "metadata": {
    "papermill": {
     "duration": 0.005873,
     "end_time": "2022-01-28T06:51:46.663175",
     "exception": false,
     "start_time": "2022-01-28T06:51:46.657302",
     "status": "completed"
    },
    "tags": []
   },
   "source": [
    "# Datacademy (2022)"
   ]
  },
  {
   "cell_type": "markdown",
   "id": "eb5ae8b7",
   "metadata": {
    "papermill": {
     "duration": 0.004517,
     "end_time": "2022-01-28T06:51:46.674146",
     "exception": false,
     "start_time": "2022-01-28T06:51:46.669629",
     "status": "completed"
    },
    "tags": []
   },
   "source": [
    "## Semana 1: ¿Qué aprenderás?\n",
    "\n",
    "* Cómo se usan los datos en las empresas. 👩‍💼👨‍💼\n",
    "* Las bases del flujo de trabajo de equipos de datos y sus roles. 👥\n",
    "* Tus primeros pasos con Python. 🐍\n",
    "* Durante la sesión en vivo del miércoles conocerás el rol de Data Analyst 📊."
   ]
  },
  {
   "cell_type": "markdown",
   "id": "4627198e",
   "metadata": {
    "papermill": {
     "duration": 0.004454,
     "end_time": "2022-01-28T06:51:46.683338",
     "exception": false,
     "start_time": "2022-01-28T06:51:46.678884",
     "status": "completed"
    },
    "tags": []
   },
   "source": [
    "### Clase #1: ¿Qué es ciencia de datos y big data? ¿Cómo afectan a mi negocio?\n",
    "\n",
    "#### Big data \n",
    "\n",
    "* Gran volumen de informacion : No existe una definicion clara a partir de cuantos datos comienza a ser *big data* pero podemos pensar en este concepto cuando herramientas como excel ya no nos son utiles para analizar estos datos.\n",
    "* Las empresas almacenan datos diariamente.   \n",
    "* Costos, eficiencia, entender a los clientes.\n",
    "* Solución matemática a un problema de negocio.\n",
    "\n",
    ">*Big data* permite crear una solución matemática o estadistica, para un problema de negocio."
   ]
  },
  {
   "cell_type": "markdown",
   "id": "d4caf1e6",
   "metadata": {
    "papermill": {
     "duration": 0.004415,
     "end_time": "2022-01-28T06:51:46.692447",
     "exception": false,
     "start_time": "2022-01-28T06:51:46.688032",
     "status": "completed"
    },
    "tags": []
   },
   "source": [
    "### Clase #2: ¿Qué tipo de información podemos analizar?\n",
    "\n",
    "#### Tipología de datos\n",
    "\n",
    "*   *Personas :* Datos que generamos nosotros, por ejemplo nuestras preferencias e interacciones con otros usuarios.\n",
    "*   *Transacciones :* Financieros.\n",
    "*   *Navegación web :* Estas usualmente se presentan como las coockies que solicitan sitios web.\n",
    "*   *Machine2Machine :* Datos recopilados entre maquinas. Por ejemplo informacion recolectada por GPS.\n",
    "*   *Biométricos :* Estos datos nos identifican como personas unicas que ns identifican como persona, por ejemplo nuestra huella digital o reconocimiento facial.\n"
   ]
  },
  {
   "cell_type": "markdown",
   "id": "c2aaa076",
   "metadata": {
    "papermill": {
     "duration": 0.004448,
     "end_time": "2022-01-28T06:51:46.701933",
     "exception": false,
     "start_time": "2022-01-28T06:51:46.697485",
     "status": "completed"
    },
    "tags": []
   },
   "source": [
    "### Clase #3: ¿Cómo crear empresas y culturas data-driven?\n",
    "\n",
    "#### Empresas data-driven\n",
    "\n",
    "> Las empresas data-driven, son empresas que toman desiciones basadas en datos.\n",
    "\n",
    "1. Crear una **cultura** de datos.\n",
    "2. **Recolectar** información.\n",
    "3. Medir **todo**.\n",
    "4. Datos **relevantes** y **precisos**.\n",
    "5. Testear y crear **hipótesis**.\n",
    "6. Desde los **insights** de datos a las **acciones**.\n",
    "7. Cumplir las **regulaciones** de datos.\n",
    "8. **Automatizar**.\n",
    "\n",
    "> Me pareció bastante interesante este aporte en la sección de comentarios de la clase\n",
    "\n",
    "*   *Punto 1* Contextualización de el equipo de trabajo.\n",
    "*   *Puntos 2 - 3* Se encarga el *Data Engineer*.\n",
    "*   *Puntos 4 - 7* Se encarga el *Data Scientist*.\n",
    "*   *Punto 8* Se encarga el *Machine Learning Engineer*."
   ]
  },
  {
   "cell_type": "markdown",
   "id": "065cf935",
   "metadata": {
    "papermill": {
     "duration": 0.004326,
     "end_time": "2022-01-28T06:51:46.710900",
     "exception": false,
     "start_time": "2022-01-28T06:51:46.706574",
     "status": "completed"
    },
    "tags": []
   },
   "source": [
    "### Clase #4: Flujo de trabajo en ciencia de datos: fases, roles y oportunidades laborales\n",
    "\n",
    "> Esta clase sirve para saber que rol deseas llevar acabo, o que especialización deseas hacer.\n",
    "\n",
    "#### Ingeniero de datos \n",
    "\n",
    "*   Bases de datos.\n",
    "*   *ETLs*/ *APIS*.\n",
    "*   *SQL* y *NoSQL*. \n",
    "\n",
    "Es el origen de los datos, esta construyendo la coneccion entre el dispositivo que adquiere la informacion y las bases de datps.\n",
    "\n",
    "#### Analista Business Inteligence\n",
    "\n",
    "*   Extracción y *dashboards*.\n",
    "*   Automatización.\n",
    "*   *SQL* y *Excel*. \n",
    "\n",
    "El analista de datos a partir de la información extraida por el *ingeniero de datos*, crea medios a traves de los cuales cualquier persona dentro de la empresa pueda interpretarlos. Los datos en este rol hablan del presente y el pasado.\n",
    "\n",
    "#### Data Scientist\n",
    "\n",
    "*   *Machine learning*.\n",
    "*   Modelos estadisticos.\n",
    "*   *R* y *Python*. \n",
    "\n",
    "Los datos en este rol, pretenden hablar sobre el futuro, es decir intentar predecir.\n",
    "\n",
    "#### Data traslator\n",
    "\n",
    "*   *Data Scientist -Desition makers*\n",
    "*   Destiladores de data.\n",
    "*   Expertos necesidad del negocio. \n",
    "\n",
    "Es una persona con expertiz en el negocio de estudio por lo tanto puede ayudar a guiar durante todo el proceso para un mejor manejo de la data."
   ]
  },
  {
   "cell_type": "markdown",
   "id": "b08eed4a",
   "metadata": {
    "papermill": {
     "duration": 0.004478,
     "end_time": "2022-01-28T06:51:46.720075",
     "exception": false,
     "start_time": "2022-01-28T06:51:46.715597",
     "status": "completed"
    },
    "tags": []
   },
   "source": [
    "### Clase #5: ¿Por qué aprender Python?"
   ]
  }
 ],
 "metadata": {
  "kernelspec": {
   "display_name": "Python 3",
   "language": "python",
   "name": "python3"
  },
  "language_info": {
   "codemirror_mode": {
    "name": "ipython",
    "version": 3
   },
   "file_extension": ".py",
   "mimetype": "text/x-python",
   "name": "python",
   "nbconvert_exporter": "python",
   "pygments_lexer": "ipython3",
   "version": "3.7.12"
  },
  "papermill": {
   "default_parameters": {},
   "duration": 10.138818,
   "end_time": "2022-01-28T06:51:47.335979",
   "environment_variables": {},
   "exception": null,
   "input_path": "__notebook__.ipynb",
   "output_path": "__notebook__.ipynb",
   "parameters": {},
   "start_time": "2022-01-28T06:51:37.197161",
   "version": "2.3.3"
  }
 },
 "nbformat": 4,
 "nbformat_minor": 5
}
