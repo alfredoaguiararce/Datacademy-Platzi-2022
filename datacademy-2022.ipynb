{
 "cells": [
  {
   "cell_type": "markdown",
   "id": "67abb37e",
   "metadata": {
    "papermill": {
     "duration": 0.003835,
     "end_time": "2022-01-28T06:48:55.347064",
     "exception": false,
     "start_time": "2022-01-28T06:48:55.343229",
     "status": "completed"
    },
    "tags": []
   },
   "source": [
    "# Datacademy (2022)"
   ]
  },
  {
   "cell_type": "markdown",
   "id": "70ba3397",
   "metadata": {
    "papermill": {
     "duration": 0.002401,
     "end_time": "2022-01-28T06:48:55.352400",
     "exception": false,
     "start_time": "2022-01-28T06:48:55.349999",
     "status": "completed"
    },
    "tags": []
   },
   "source": [
    "## Semana 1: ¿Qué aprenderás?\n",
    "\n",
    "* Cómo se usan los datos en las empresas. 👩‍💼👨‍💼\n",
    "* Las bases del flujo de trabajo de equipos de datos y sus roles. 👥\n",
    "* Tus primeros pasos con Python. 🐍\n",
    "* Durante la sesión en vivo del miércoles conocerás el rol de Data Analyst 📊."
   ]
  },
  {
   "cell_type": "markdown",
   "id": "ac021842",
   "metadata": {
    "papermill": {
     "duration": 0.002414,
     "end_time": "2022-01-28T06:48:55.357384",
     "exception": false,
     "start_time": "2022-01-28T06:48:55.354970",
     "status": "completed"
    },
    "tags": []
   },
   "source": [
    "### Clase #1: ¿Qué es ciencia de datos y big data? ¿Cómo afectan a mi negocio?\n",
    "\n",
    "#### Big data \n",
    "\n",
    "* Gran volumen de informacion : No existe una definicion clara a partir de cuantos datos comienza a ser *big data* pero podemos pensar en este concepto cuando herramientas como excel ya no nos son utiles para analizar estos datos.\n",
    "* Las empresas almacenan datos diariamente.   \n",
    "* Costos, eficiencia, entender a los clientes.\n",
    "* Solución matemática a un problema de negocio.\n",
    "\n",
    ">*Big data* permite crear una solución matemática o estadistica, para un problema de negocio."
   ]
  }
 ],
 "metadata": {
  "kernelspec": {
   "display_name": "Python 3",
   "language": "python",
   "name": "python3"
  },
  "language_info": {
   "codemirror_mode": {
    "name": "ipython",
    "version": 3
   },
   "file_extension": ".py",
   "mimetype": "text/x-python",
   "name": "python",
   "nbconvert_exporter": "python",
   "pygments_lexer": "ipython3",
   "version": "3.7.12"
  },
  "papermill": {
   "default_parameters": {},
   "duration": 9.983175,
   "end_time": "2022-01-28T06:48:55.971152",
   "environment_variables": {},
   "exception": null,
   "input_path": "__notebook__.ipynb",
   "output_path": "__notebook__.ipynb",
   "parameters": {},
   "start_time": "2022-01-28T06:48:45.987977",
   "version": "2.3.3"
  }
 },
 "nbformat": 4,
 "nbformat_minor": 5
}
