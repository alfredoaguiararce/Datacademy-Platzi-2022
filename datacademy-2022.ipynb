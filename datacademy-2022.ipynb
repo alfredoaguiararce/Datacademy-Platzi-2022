{
 "cells": [
  {
   "cell_type": "markdown",
   "id": "edd49216",
   "metadata": {
    "papermill": {
     "duration": 0.012585,
     "end_time": "2022-01-29T07:39:49.688962",
     "exception": false,
     "start_time": "2022-01-29T07:39:49.676377",
     "status": "completed"
    },
    "tags": []
   },
   "source": [
    "# Datacademy (2022)"
   ]
  },
  {
   "cell_type": "markdown",
   "id": "797af145",
   "metadata": {
    "papermill": {
     "duration": 0.011078,
     "end_time": "2022-01-29T07:39:49.712262",
     "exception": false,
     "start_time": "2022-01-29T07:39:49.701184",
     "status": "completed"
    },
    "tags": []
   },
   "source": [
    "## Semana 1: ¿Qué aprenderás?\n",
    "\n",
    "* Cómo se usan los datos en las empresas. 👩‍💼👨‍💼\n",
    "* Las bases del flujo de trabajo de equipos de datos y sus roles. 👥\n",
    "* Tus primeros pasos con Python. 🐍\n",
    "* Durante la sesión en vivo del miércoles conocerás el rol de Data Analyst 📊."
   ]
  },
  {
   "cell_type": "markdown",
   "id": "b7071851",
   "metadata": {
    "papermill": {
     "duration": 0.011277,
     "end_time": "2022-01-29T07:39:49.735057",
     "exception": false,
     "start_time": "2022-01-29T07:39:49.723780",
     "status": "completed"
    },
    "tags": []
   },
   "source": [
    "### Clase #1: ¿Qué es ciencia de datos y big data? ¿Cómo afectan a mi negocio?\n",
    "\n",
    "#### Big data \n",
    "\n",
    "* Gran volumen de informacion : No existe una definicion clara a partir de cuantos datos comienza a ser *big data* pero podemos pensar en este concepto cuando herramientas como excel ya no nos son utiles para analizar estos datos.\n",
    "* Las empresas almacenan datos diariamente.   \n",
    "* Costos, eficiencia, entender a los clientes.\n",
    "* Solución matemática a un problema de negocio.\n",
    "\n",
    ">*Big data* permite crear una solución matemática o estadistica, para un problema de negocio."
   ]
  },
  {
   "cell_type": "markdown",
   "id": "824cdef1",
   "metadata": {
    "papermill": {
     "duration": 0.011134,
     "end_time": "2022-01-29T07:39:49.757623",
     "exception": false,
     "start_time": "2022-01-29T07:39:49.746489",
     "status": "completed"
    },
    "tags": []
   },
   "source": [
    "### Clase #2: ¿Qué tipo de información podemos analizar?\n",
    "\n",
    "#### Tipología de datos\n",
    "\n",
    "*   *Personas :* Datos que generamos nosotros, por ejemplo nuestras preferencias e interacciones con otros usuarios.\n",
    "*   *Transacciones :* Financieros.\n",
    "*   *Navegación web :* Estas usualmente se presentan como las coockies que solicitan sitios web.\n",
    "*   *Machine2Machine :* Datos recopilados entre maquinas. Por ejemplo informacion recolectada por GPS.\n",
    "*   *Biométricos :* Estos datos nos identifican como personas unicas que ns identifican como persona, por ejemplo nuestra huella digital o reconocimiento facial.\n"
   ]
  },
  {
   "cell_type": "markdown",
   "id": "91486ec7",
   "metadata": {
    "papermill": {
     "duration": 0.011188,
     "end_time": "2022-01-29T07:39:49.780289",
     "exception": false,
     "start_time": "2022-01-29T07:39:49.769101",
     "status": "completed"
    },
    "tags": []
   },
   "source": [
    "### Clase #3: ¿Cómo crear empresas y culturas data-driven?\n",
    "\n",
    "#### Empresas data-driven\n",
    "\n",
    "> Las empresas data-driven, son empresas que toman desiciones basadas en datos.\n",
    "\n",
    "1. Crear una **cultura** de datos.\n",
    "2. **Recolectar** información.\n",
    "3. Medir **todo**.\n",
    "4. Datos **relevantes** y **precisos**.\n",
    "5. Testear y crear **hipótesis**.\n",
    "6. Desde los **insights** de datos a las **acciones**.\n",
    "7. Cumplir las **regulaciones** de datos.\n",
    "8. **Automatizar**.\n",
    "\n",
    "> Me pareció bastante interesante este aporte en la sección de comentarios de la clase\n",
    "\n",
    "*   *Punto 1* Contextualización de el equipo de trabajo.\n",
    "*   *Puntos 2 - 3* Se encarga el *Data Engineer*.\n",
    "*   *Puntos 4 - 7* Se encarga el *Data Scientist*.\n",
    "*   *Punto 8* Se encarga el *Machine Learning Engineer*."
   ]
  },
  {
   "cell_type": "markdown",
   "id": "b8df22a6",
   "metadata": {
    "papermill": {
     "duration": 0.011456,
     "end_time": "2022-01-29T07:39:49.803220",
     "exception": false,
     "start_time": "2022-01-29T07:39:49.791764",
     "status": "completed"
    },
    "tags": []
   },
   "source": [
    "### Clase #4: Flujo de trabajo en ciencia de datos: fases, roles y oportunidades laborales\n",
    "\n",
    "> Esta clase sirve para saber que rol deseas llevar acabo, o que especialización deseas hacer.\n",
    "\n",
    "#### Ingeniero de datos \n",
    "\n",
    "*   Bases de datos.\n",
    "*   *ETLs*/ *APIS*.\n",
    "*   *SQL* y *NoSQL*. \n",
    "\n",
    "Es el origen de los datos, esta construyendo la coneccion entre el dispositivo que adquiere la informacion y las bases de datps.\n",
    "\n",
    "#### Analista Business Inteligence\n",
    "\n",
    "*   Extracción y *dashboards*.\n",
    "*   Automatización.\n",
    "*   *SQL* y *Excel*. \n",
    "\n",
    "El analista de datos a partir de la información extraida por el *ingeniero de datos*, crea medios a traves de los cuales cualquier persona dentro de la empresa pueda interpretarlos. Los datos en este rol hablan del presente y el pasado.\n",
    "\n",
    "#### Data Scientist\n",
    "\n",
    "*   *Machine learning*.\n",
    "*   Modelos estadisticos.\n",
    "*   *R* y *Python*. \n",
    "\n",
    "Los datos en este rol, pretenden hablar sobre el futuro, es decir intentar predecir.\n",
    "\n",
    "#### Data traslator\n",
    "\n",
    "*   *Data Scientist -Desition makers*\n",
    "*   Destiladores de data.\n",
    "*   Expertos necesidad del negocio. \n",
    "\n",
    "Es una persona con expertiz en el negocio de estudio por lo tanto puede ayudar a guiar durante todo el proceso para un mejor manejo de la data."
   ]
  },
  {
   "cell_type": "markdown",
   "id": "6815ccad",
   "metadata": {
    "papermill": {
     "duration": 0.011107,
     "end_time": "2022-01-29T07:39:49.825918",
     "exception": false,
     "start_time": "2022-01-29T07:39:49.814811",
     "status": "completed"
    },
    "tags": []
   },
   "source": [
    "### Clase #5: ¿Por qué aprender Python?\n",
    "\n",
    "Dentro del mundo de la tecnologia existen diferentes lenguajes de programacion con enfoques distintos (Recordar que no existe el lenguaje perfecto, cada lenguaje se destaca en ciertas areas). Antes de elegir un lenguaje de programacion, debemos preguntarnos que queremos realizar, desarrollo web, IoT, aplicaciones hibridas, aplicaciones moviles nativas, etc.\n",
    "\n",
    "> Python se destaca bastante en el area de datos, pero a su vez es bastante usado en IoT y/o desarrollo web (Back-End).\n",
    "\n",
    "> Python se destaca por ser facil de leer, elegante y sobretodo versatil."
   ]
  },
  {
   "cell_type": "markdown",
   "id": "96dcc365",
   "metadata": {
    "papermill": {
     "duration": 0.01108,
     "end_time": "2022-01-29T07:39:49.848430",
     "exception": false,
     "start_time": "2022-01-29T07:39:49.837350",
     "status": "completed"
    },
    "tags": []
   },
   "source": [
    "### Clase #6: El núcleo de un programa... los algoritmos\n",
    "\n",
    "#### ¿Que es un algoritmo?\n",
    "\n",
    "Un algoritmo podria definirse como una serie de pasos pasa resolver un problema.\n",
    "\n",
    "De manera simplificada podemos decir que un algoritmo es una serie de pasos, o instrucciones que damos a la computadora para resolver un problema. Y para crear algoritmos adecuados principalmente debemos cumplir con las siguientes dos requisitos:\n",
    "\n",
    "* No pueden tener pasos infinitos.\n",
    "\n",
    "* Los pasos no puede ser ambiguos.\n",
    "\n",
    "> Un algoritmo puede estar simplificado por diagramas conocidos como diagramas de flujo."
   ]
  },
  {
   "cell_type": "markdown",
   "id": "60a6b773",
   "metadata": {
    "papermill": {
     "duration": 0.011122,
     "end_time": "2022-01-29T07:39:49.871036",
     "exception": false,
     "start_time": "2022-01-29T07:39:49.859914",
     "status": "completed"
    },
    "tags": []
   },
   "source": [
    "### Clase #7: El arte de la programación\n",
    "\n",
    "Esta clase se centra mas en las aplicaciones del lenguaje de programacion python, concretamente se trata de una clase del [Curso básico de Python](https://platzi.com/clases/python/) en Platzi.  \n",
    "\n",
    "* Python es el lenguaje con mayor crecimiento en los últimos años.\n",
    "\n",
    "* Es útil para quienes no tienen mucha experiencia en programación.\n",
    "\n",
    "* Es un programa con una forma de escribirse que es elegante y simple.\n",
    "\n",
    "* Conduce a la formación de buenos hábitos de programación.\n",
    "\n",
    "* La programación es dar instrucciones a la computadora para que resuelva un problema.\n",
    "\n",
    "> Aprender bien a programar abre muchas puertas laborales."
   ]
  },
  {
   "cell_type": "markdown",
   "id": "218835d6",
   "metadata": {
    "papermill": {
     "duration": 0.011025,
     "end_time": "2022-01-29T07:39:49.893608",
     "exception": false,
     "start_time": "2022-01-29T07:39:49.882583",
     "status": "completed"
    },
    "tags": []
   },
   "source": [
    "### Clase #8 y #9: Instalación de nuestras herramientas en Mac y Linux respectivamente\n",
    "\n",
    "Estas clases las salte dado que yo utilice el sistema operativo windows."
   ]
  },
  {
   "cell_type": "markdown",
   "id": "e7dff108",
   "metadata": {
    "papermill": {
     "duration": 0.011073,
     "end_time": "2022-01-29T07:39:49.916115",
     "exception": false,
     "start_time": "2022-01-29T07:39:49.905042",
     "status": "completed"
    },
    "tags": []
   },
   "source": [
    "### Clase #10 Tu mejor herramienta: la consola\n",
    "\n",
    "En esta clase se presenta un ejemplo para interactuar con la consola. Simplemente se navega a traves de ella de manera basica utilizando los comandos basicos de a continuación:\n",
    " \n",
    "* **CTRL + L (para Mac)** Limpiar pantalla.\n",
    "* **cd** Ir al directorio anterior.\n",
    "* **cd Desktop** Ir al escritorio.\n",
    "* **cd (nombre carpeta)** Ir a un directorio específico\n",
    "* **ls** Muestra una lista de los archivos dentro del directorio.\n",
    "* **mkdir (nombre carpeta)** crear un nuevo directorio.\n",
    "* **touch (nombre archivo .txt, .docx, etc)** crear nuevo archivo. \n"
   ]
  },
  {
   "cell_type": "markdown",
   "id": "c3e88f73",
   "metadata": {
    "papermill": {
     "duration": 0.011078,
     "end_time": "2022-01-29T07:39:49.938654",
     "exception": false,
     "start_time": "2022-01-29T07:39:49.927576",
     "status": "completed"
    },
    "tags": []
   },
   "source": [
    "### Clase #11 : Explorando Python: operadores aritméticos\n",
    "\n",
    "#### Operadores aritmeticos:\n",
    "\n",
    "* Suma 5 + 5\n",
    "* Restar 5 – 5\n",
    "* Multiplicar 2 * 5\n",
    "* Dividir 21 / 5\n",
    "* División euclidiana (Cociente) 21//5\n",
    "* Módulo (Resto de división) 21 % 5\n",
    "* Potencia 2 ** 2\n",
    "\n",
    "#### Calcular una raiz cuadrada en python:\n",
    "\n",
    "El cálculo de la raíz cuadrada de un número requiere importar una librería *math.py*. Para hacerlo en la consola interactiva mediante una sola línea de código, hacemos potencia a 1/2.\n",
    "\n",
    "#### Orden de las operaciones.\n",
    "\n",
    "1. Paréntesis\n",
    "2. Potenciación\n",
    "3. Multiplicación y división\n",
    "4. Suma y resta\n",
    "\n",
    "A continuacion agregare codigo en python para la demostracion de dichos operadores."
   ]
  },
  {
   "cell_type": "code",
   "execution_count": 1,
   "id": "8e786eca",
   "metadata": {
    "execution": {
     "iopub.execute_input": "2022-01-29T07:39:49.973193Z",
     "iopub.status.busy": "2022-01-29T07:39:49.972198Z",
     "iopub.status.idle": "2022-01-29T07:39:49.983947Z",
     "shell.execute_reply": "2022-01-29T07:39:49.984448Z",
     "shell.execute_reply.started": "2022-01-29T07:17:53.020605Z"
    },
    "papermill": {
     "duration": 0.034688,
     "end_time": "2022-01-29T07:39:49.984764",
     "exception": false,
     "start_time": "2022-01-29T07:39:49.950076",
     "status": "completed"
    },
    "tags": []
   },
   "outputs": [
    {
     "name": "stdout",
     "output_type": "stream",
     "text": [
      "El resultado de sumar 5 + 5 es :  10\n",
      "El resultado de restar 5 - 5 es :  0\n",
      "El resultado de multiplicar 5 * 5 es :  25\n",
      "El resultado de dividir 5 * 5 es :  1.0\n",
      "El resultado del cociente de 5 // 5 es :  1\n",
      "El resultado del modulo de 5 % 5 es :  25\n",
      "El resultado de elevar 5 al cuadrado es :  25\n"
     ]
    }
   ],
   "source": [
    "# Suma\n",
    "suma = 5 + 5\n",
    "print(\"El resultado de sumar 5 + 5 es : \", suma)\n",
    "\n",
    "# Resta\n",
    "resta = 5 - 5\n",
    "print(\"El resultado de restar 5 - 5 es : \", resta)\n",
    "\n",
    "# Multiplicación \n",
    "multiplicacion = 5 * 5\n",
    "print(\"El resultado de multiplicar 5 * 5 es : \", multiplicacion)\n",
    "\n",
    "# División\n",
    "division = 5 / 5\n",
    "print(\"El resultado de dividir 5 * 5 es : \", division)\n",
    "\n",
    "# Cociente\n",
    "cociente = 5 // 5\n",
    "print(\"El resultado del cociente de 5 // 5 es : \", cociente)\n",
    "\n",
    "# Modulo\n",
    "modulo = 5 * 5\n",
    "print(\"El resultado del modulo de 5 % 5 es : \", modulo)\n",
    "\n",
    "# Exponente\n",
    "exponente = 5 ** 2\n",
    "print(\"El resultado de elevar 5 al cuadrado es : \", exponente)"
   ]
  },
  {
   "cell_type": "code",
   "execution_count": 2,
   "id": "179d10f7",
   "metadata": {
    "execution": {
     "iopub.execute_input": "2022-01-29T07:39:50.014009Z",
     "iopub.status.busy": "2022-01-29T07:39:50.012947Z",
     "iopub.status.idle": "2022-01-29T07:39:50.019536Z",
     "shell.execute_reply": "2022-01-29T07:39:50.018959Z",
     "shell.execute_reply.started": "2022-01-29T07:19:08.502557Z"
    },
    "papermill": {
     "duration": 0.022744,
     "end_time": "2022-01-29T07:39:50.019697",
     "exception": false,
     "start_time": "2022-01-29T07:39:49.996953",
     "status": "completed"
    },
    "tags": []
   },
   "outputs": [
    {
     "name": "stdout",
     "output_type": "stream",
     "text": [
      "La raiz cuadrada de 4 es :  2.0\n"
     ]
    }
   ],
   "source": [
    "# Calcular la raiz cuadrada sin utilizar librerias\n",
    "raiz_simple = 4 ** (0.5)\n",
    "print(\"La raiz cuadrada de 4 es : \", raiz_simple)"
   ]
  },
  {
   "cell_type": "code",
   "execution_count": 3,
   "id": "6fb7195d",
   "metadata": {
    "execution": {
     "iopub.execute_input": "2022-01-29T07:39:50.050377Z",
     "iopub.status.busy": "2022-01-29T07:39:50.049641Z",
     "iopub.status.idle": "2022-01-29T07:39:50.054166Z",
     "shell.execute_reply": "2022-01-29T07:39:50.053287Z",
     "shell.execute_reply.started": "2022-01-29T07:20:23.768742Z"
    },
    "papermill": {
     "duration": 0.022344,
     "end_time": "2022-01-29T07:39:50.054370",
     "exception": false,
     "start_time": "2022-01-29T07:39:50.032026",
     "status": "completed"
    },
    "tags": []
   },
   "outputs": [
    {
     "name": "stdout",
     "output_type": "stream",
     "text": [
      "La raiz cuadrada de 4 es :  2.0\n"
     ]
    }
   ],
   "source": [
    "# Calcular la raiz cuadrada utilizando librerias\n",
    "import math\n",
    "raiz_con_libreria = math.sqrt(4)\n",
    "print(\"La raiz cuadrada de 4 es : \", raiz_con_libreria)"
   ]
  },
  {
   "cell_type": "markdown",
   "id": "04a2382e",
   "metadata": {
    "papermill": {
     "duration": 0.012623,
     "end_time": "2022-01-29T07:39:50.080570",
     "exception": false,
     "start_time": "2022-01-29T07:39:50.067947",
     "status": "completed"
    },
    "tags": []
   },
   "source": [
    "La explicación del porque es el mismo resultado obtenido de la funcion *sqrt()* y elevar a la 1/2, no es cuestion del lenguaje es cuestion matematica donde la raiz cuadrada puede ser resulta como un exponente a la 1/2."
   ]
  },
  {
   "cell_type": "markdown",
   "id": "957267b1",
   "metadata": {
    "papermill": {
     "duration": 0.012545,
     "end_time": "2022-01-29T07:39:50.105807",
     "exception": false,
     "start_time": "2022-01-29T07:39:50.093262",
     "status": "completed"
    },
    "tags": []
   },
   "source": [
    "### Clase #11 ¿Qué es una variable?\n",
    "\n",
    "Una variable es una pieza contenedora de información, la cual posee un nombre como identificador. Una variable puede contener elementos de distintos tipos.\n",
    "\n",
    "Existen ciertas normas que se deben cumplir para declarar una variable en python:\n",
    "\n",
    "* El nombre de la variable NO debe iniciar con un numero.\n",
    "\n",
    "* El nombre debe estar en minúsculas.\n",
    "\n",
    "* Si el nombre de la variable posee varias palabras se deben separar con “_” ya que no esta permitido el uso de espacio.\n",
    "\n",
    "> Una variable viene a representar un espacio en memoria al que se le asigna un dato."
   ]
  },
  {
   "cell_type": "code",
   "execution_count": 4,
   "id": "faac4f39",
   "metadata": {
    "execution": {
     "iopub.execute_input": "2022-01-29T07:39:50.137148Z",
     "iopub.status.busy": "2022-01-29T07:39:50.136355Z",
     "iopub.status.idle": "2022-01-29T07:39:50.141880Z",
     "shell.execute_reply": "2022-01-29T07:39:50.140985Z",
     "shell.execute_reply.started": "2022-01-29T07:37:51.143026Z"
    },
    "papermill": {
     "duration": 0.02349,
     "end_time": "2022-01-29T07:39:50.142087",
     "exception": false,
     "start_time": "2022-01-29T07:39:50.118597",
     "status": "completed"
    },
    "tags": []
   },
   "outputs": [
    {
     "name": "stdout",
     "output_type": "stream",
     "text": [
      "La variable es de tipo :  <class 'int'>\n",
      "La variable es de tipo :  <class 'bool'>\n"
     ]
    }
   ],
   "source": [
    "# En python las variables pueden definirse de la siguiente manera\n",
    "var = 1\n",
    "print(\"La variable es de tipo : \", type(var))\n",
    "\n",
    "# Sin embargo python es un lenguaje de typado dinamico por lo que nosotros podriamos redefinir esta variable\n",
    "var = True\n",
    "print(\"La variable es de tipo : \", type(var))\n",
    "\n",
    "# Es decir que podemos cambiar el tipo de dato de una variable y esto no presentara algun problema \n",
    "# al menos hasta que interfiera en alguna operacion durante su ejecucion.\n",
    "\n",
    "# Esta clase de problemas pueden prevenirse con librerias como mypy."
   ]
  }
 ],
 "metadata": {
  "kernelspec": {
   "display_name": "Python 3",
   "language": "python",
   "name": "python3"
  },
  "language_info": {
   "codemirror_mode": {
    "name": "ipython",
    "version": 3
   },
   "file_extension": ".py",
   "mimetype": "text/x-python",
   "name": "python",
   "nbconvert_exporter": "python",
   "pygments_lexer": "ipython3",
   "version": "3.7.12"
  },
  "papermill": {
   "default_parameters": {},
   "duration": 11.543489,
   "end_time": "2022-01-29T07:39:50.767037",
   "environment_variables": {},
   "exception": null,
   "input_path": "__notebook__.ipynb",
   "output_path": "__notebook__.ipynb",
   "parameters": {},
   "start_time": "2022-01-29T07:39:39.223548",
   "version": "2.3.3"
  }
 },
 "nbformat": 4,
 "nbformat_minor": 5
}
