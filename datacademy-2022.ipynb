{
 "cells": [
  {
   "cell_type": "markdown",
   "id": "205a58cf",
   "metadata": {
    "papermill": {
     "duration": 0.014338,
     "end_time": "2022-01-29T07:50:51.088434",
     "exception": false,
     "start_time": "2022-01-29T07:50:51.074096",
     "status": "completed"
    },
    "tags": []
   },
   "source": [
    "# Datacademy (2022)"
   ]
  },
  {
   "cell_type": "markdown",
   "id": "daf9b1d2",
   "metadata": {
    "papermill": {
     "duration": 0.012859,
     "end_time": "2022-01-29T07:50:51.116580",
     "exception": false,
     "start_time": "2022-01-29T07:50:51.103721",
     "status": "completed"
    },
    "tags": []
   },
   "source": [
    "## Semana 1: ¿Qué aprenderás?\n",
    "\n",
    "* Cómo se usan los datos en las empresas. 👩‍💼👨‍💼\n",
    "* Las bases del flujo de trabajo de equipos de datos y sus roles. 👥\n",
    "* Tus primeros pasos con Python. 🐍\n",
    "* Durante la sesión en vivo del miércoles conocerás el rol de Data Analyst 📊."
   ]
  },
  {
   "cell_type": "markdown",
   "id": "e04c6224",
   "metadata": {
    "papermill": {
     "duration": 0.012791,
     "end_time": "2022-01-29T07:50:51.142590",
     "exception": false,
     "start_time": "2022-01-29T07:50:51.129799",
     "status": "completed"
    },
    "tags": []
   },
   "source": [
    "### Clase #1: ¿Qué es ciencia de datos y big data? ¿Cómo afectan a mi negocio?\n",
    "\n",
    "#### Big data \n",
    "\n",
    "* Gran volumen de informacion : No existe una definicion clara a partir de cuantos datos comienza a ser *big data* pero podemos pensar en este concepto cuando herramientas como excel ya no nos son utiles para analizar estos datos.\n",
    "* Las empresas almacenan datos diariamente.   \n",
    "* Costos, eficiencia, entender a los clientes.\n",
    "* Solución matemática a un problema de negocio.\n",
    "\n",
    ">*Big data* permite crear una solución matemática o estadistica, para un problema de negocio."
   ]
  },
  {
   "cell_type": "markdown",
   "id": "b5fa0dea",
   "metadata": {
    "papermill": {
     "duration": 0.013144,
     "end_time": "2022-01-29T07:50:51.169037",
     "exception": false,
     "start_time": "2022-01-29T07:50:51.155893",
     "status": "completed"
    },
    "tags": []
   },
   "source": [
    "### Clase #2: ¿Qué tipo de información podemos analizar?\n",
    "\n",
    "#### Tipología de datos\n",
    "\n",
    "*   *Personas :* Datos que generamos nosotros, por ejemplo nuestras preferencias e interacciones con otros usuarios.\n",
    "*   *Transacciones :* Financieros.\n",
    "*   *Navegación web :* Estas usualmente se presentan como las coockies que solicitan sitios web.\n",
    "*   *Machine2Machine :* Datos recopilados entre maquinas. Por ejemplo informacion recolectada por GPS.\n",
    "*   *Biométricos :* Estos datos nos identifican como personas unicas que ns identifican como persona, por ejemplo nuestra huella digital o reconocimiento facial.\n"
   ]
  },
  {
   "cell_type": "markdown",
   "id": "5f3eaed1",
   "metadata": {
    "papermill": {
     "duration": 0.012697,
     "end_time": "2022-01-29T07:50:51.195032",
     "exception": false,
     "start_time": "2022-01-29T07:50:51.182335",
     "status": "completed"
    },
    "tags": []
   },
   "source": [
    "### Clase #3: ¿Cómo crear empresas y culturas data-driven?\n",
    "\n",
    "#### Empresas data-driven\n",
    "\n",
    "> Las empresas data-driven, son empresas que toman desiciones basadas en datos.\n",
    "\n",
    "1. Crear una **cultura** de datos.\n",
    "2. **Recolectar** información.\n",
    "3. Medir **todo**.\n",
    "4. Datos **relevantes** y **precisos**.\n",
    "5. Testear y crear **hipótesis**.\n",
    "6. Desde los **insights** de datos a las **acciones**.\n",
    "7. Cumplir las **regulaciones** de datos.\n",
    "8. **Automatizar**.\n",
    "\n",
    "> Me pareció bastante interesante este aporte en la sección de comentarios de la clase\n",
    "\n",
    "*   *Punto 1* Contextualización de el equipo de trabajo.\n",
    "*   *Puntos 2 - 3* Se encarga el *Data Engineer*.\n",
    "*   *Puntos 4 - 7* Se encarga el *Data Scientist*.\n",
    "*   *Punto 8* Se encarga el *Machine Learning Engineer*."
   ]
  },
  {
   "cell_type": "markdown",
   "id": "8c31d241",
   "metadata": {
    "papermill": {
     "duration": 0.012827,
     "end_time": "2022-01-29T07:50:51.220975",
     "exception": false,
     "start_time": "2022-01-29T07:50:51.208148",
     "status": "completed"
    },
    "tags": []
   },
   "source": [
    "### Clase #4: Flujo de trabajo en ciencia de datos: fases, roles y oportunidades laborales\n",
    "\n",
    "> Esta clase sirve para saber que rol deseas llevar acabo, o que especialización deseas hacer.\n",
    "\n",
    "#### Ingeniero de datos \n",
    "\n",
    "*   Bases de datos.\n",
    "*   *ETLs*/ *APIS*.\n",
    "*   *SQL* y *NoSQL*. \n",
    "\n",
    "Es el origen de los datos, esta construyendo la coneccion entre el dispositivo que adquiere la informacion y las bases de datps.\n",
    "\n",
    "#### Analista Business Inteligence\n",
    "\n",
    "*   Extracción y *dashboards*.\n",
    "*   Automatización.\n",
    "*   *SQL* y *Excel*. \n",
    "\n",
    "El analista de datos a partir de la información extraida por el *ingeniero de datos*, crea medios a traves de los cuales cualquier persona dentro de la empresa pueda interpretarlos. Los datos en este rol hablan del presente y el pasado.\n",
    "\n",
    "#### Data Scientist\n",
    "\n",
    "*   *Machine learning*.\n",
    "*   Modelos estadisticos.\n",
    "*   *R* y *Python*. \n",
    "\n",
    "Los datos en este rol, pretenden hablar sobre el futuro, es decir intentar predecir.\n",
    "\n",
    "#### Data traslator\n",
    "\n",
    "*   *Data Scientist -Desition makers*\n",
    "*   Destiladores de data.\n",
    "*   Expertos necesidad del negocio. \n",
    "\n",
    "Es una persona con expertiz en el negocio de estudio por lo tanto puede ayudar a guiar durante todo el proceso para un mejor manejo de la data."
   ]
  },
  {
   "cell_type": "markdown",
   "id": "3ab55569",
   "metadata": {
    "papermill": {
     "duration": 0.012665,
     "end_time": "2022-01-29T07:50:51.246568",
     "exception": false,
     "start_time": "2022-01-29T07:50:51.233903",
     "status": "completed"
    },
    "tags": []
   },
   "source": [
    "### Clase #5: ¿Por qué aprender Python?\n",
    "\n",
    "Dentro del mundo de la tecnologia existen diferentes lenguajes de programacion con enfoques distintos (Recordar que no existe el lenguaje perfecto, cada lenguaje se destaca en ciertas areas). Antes de elegir un lenguaje de programacion, debemos preguntarnos que queremos realizar, desarrollo web, IoT, aplicaciones hibridas, aplicaciones moviles nativas, etc.\n",
    "\n",
    "> Python se destaca bastante en el area de datos, pero a su vez es bastante usado en IoT y/o desarrollo web (Back-End).\n",
    "\n",
    "> Python se destaca por ser facil de leer, elegante y sobretodo versatil."
   ]
  },
  {
   "cell_type": "markdown",
   "id": "aa22d581",
   "metadata": {
    "papermill": {
     "duration": 0.012697,
     "end_time": "2022-01-29T07:50:51.272196",
     "exception": false,
     "start_time": "2022-01-29T07:50:51.259499",
     "status": "completed"
    },
    "tags": []
   },
   "source": [
    "### Clase #6: El núcleo de un programa... los algoritmos\n",
    "\n",
    "#### ¿Que es un algoritmo?\n",
    "\n",
    "Un algoritmo podria definirse como una serie de pasos pasa resolver un problema.\n",
    "\n",
    "De manera simplificada podemos decir que un algoritmo es una serie de pasos, o instrucciones que damos a la computadora para resolver un problema. Y para crear algoritmos adecuados principalmente debemos cumplir con las siguientes dos requisitos:\n",
    "\n",
    "* No pueden tener pasos infinitos.\n",
    "\n",
    "* Los pasos no puede ser ambiguos.\n",
    "\n",
    "> Un algoritmo puede estar simplificado por diagramas conocidos como diagramas de flujo."
   ]
  },
  {
   "cell_type": "markdown",
   "id": "2ce0d519",
   "metadata": {
    "papermill": {
     "duration": 0.012656,
     "end_time": "2022-01-29T07:50:51.297879",
     "exception": false,
     "start_time": "2022-01-29T07:50:51.285223",
     "status": "completed"
    },
    "tags": []
   },
   "source": [
    "### Clase #7: El arte de la programación\n",
    "\n",
    "Esta clase se centra mas en las aplicaciones del lenguaje de programacion python, concretamente se trata de una clase del [Curso básico de Python](https://platzi.com/clases/python/) en Platzi.  \n",
    "\n",
    "* Python es el lenguaje con mayor crecimiento en los últimos años.\n",
    "\n",
    "* Es útil para quienes no tienen mucha experiencia en programación.\n",
    "\n",
    "* Es un programa con una forma de escribirse que es elegante y simple.\n",
    "\n",
    "* Conduce a la formación de buenos hábitos de programación.\n",
    "\n",
    "* La programación es dar instrucciones a la computadora para que resuelva un problema.\n",
    "\n",
    "> Aprender bien a programar abre muchas puertas laborales."
   ]
  },
  {
   "cell_type": "markdown",
   "id": "9088f9d0",
   "metadata": {
    "papermill": {
     "duration": 0.012534,
     "end_time": "2022-01-29T07:50:51.323320",
     "exception": false,
     "start_time": "2022-01-29T07:50:51.310786",
     "status": "completed"
    },
    "tags": []
   },
   "source": [
    "### Clase #8 y #9: Instalación de nuestras herramientas en Mac y Linux respectivamente\n",
    "\n",
    "Estas clases las salte dado que yo utilice el sistema operativo windows."
   ]
  },
  {
   "cell_type": "markdown",
   "id": "c214631f",
   "metadata": {
    "papermill": {
     "duration": 0.012786,
     "end_time": "2022-01-29T07:50:51.349103",
     "exception": false,
     "start_time": "2022-01-29T07:50:51.336317",
     "status": "completed"
    },
    "tags": []
   },
   "source": [
    "### Clase #10 Tu mejor herramienta: la consola\n",
    "\n",
    "En esta clase se presenta un ejemplo para interactuar con la consola. Simplemente se navega a traves de ella de manera basica utilizando los comandos basicos de a continuación:\n",
    " \n",
    "* **CTRL + L (para Mac)** Limpiar pantalla.\n",
    "* **cd** Ir al directorio anterior.\n",
    "* **cd Desktop** Ir al escritorio.\n",
    "* **cd (nombre carpeta)** Ir a un directorio específico\n",
    "* **ls** Muestra una lista de los archivos dentro del directorio.\n",
    "* **mkdir (nombre carpeta)** crear un nuevo directorio.\n",
    "* **touch (nombre archivo .txt, .docx, etc)** crear nuevo archivo. \n"
   ]
  },
  {
   "cell_type": "markdown",
   "id": "e43a42e3",
   "metadata": {
    "papermill": {
     "duration": 0.012708,
     "end_time": "2022-01-29T07:50:51.374774",
     "exception": false,
     "start_time": "2022-01-29T07:50:51.362066",
     "status": "completed"
    },
    "tags": []
   },
   "source": [
    "### Clase #11 : Explorando Python: operadores aritméticos\n",
    "\n",
    "#### Operadores aritmeticos:\n",
    "\n",
    "* Suma 5 + 5\n",
    "* Restar 5 – 5\n",
    "* Multiplicar 2 * 5\n",
    "* Dividir 21 / 5\n",
    "* División euclidiana (Cociente) 21//5\n",
    "* Módulo (Resto de división) 21 % 5\n",
    "* Potencia 2 ** 2\n",
    "\n",
    "#### Calcular una raiz cuadrada en python:\n",
    "\n",
    "El cálculo de la raíz cuadrada de un número requiere importar una librería *math.py*. Para hacerlo en la consola interactiva mediante una sola línea de código, hacemos potencia a 1/2.\n",
    "\n",
    "#### Orden de las operaciones.\n",
    "\n",
    "1. Paréntesis\n",
    "2. Potenciación\n",
    "3. Multiplicación y división\n",
    "4. Suma y resta\n",
    "\n",
    "A continuacion agregare codigo en python para la demostracion de dichos operadores."
   ]
  },
  {
   "cell_type": "code",
   "execution_count": 1,
   "id": "362ff7e3",
   "metadata": {
    "execution": {
     "iopub.execute_input": "2022-01-29T07:50:51.412821Z",
     "iopub.status.busy": "2022-01-29T07:50:51.412146Z",
     "iopub.status.idle": "2022-01-29T07:50:51.419726Z",
     "shell.execute_reply": "2022-01-29T07:50:51.419125Z",
     "shell.execute_reply.started": "2022-01-29T07:17:53.020605Z"
    },
    "papermill": {
     "duration": 0.032196,
     "end_time": "2022-01-29T07:50:51.419913",
     "exception": false,
     "start_time": "2022-01-29T07:50:51.387717",
     "status": "completed"
    },
    "tags": []
   },
   "outputs": [
    {
     "name": "stdout",
     "output_type": "stream",
     "text": [
      "El resultado de sumar 5 + 5 es :  10\n",
      "El resultado de restar 5 - 5 es :  0\n",
      "El resultado de multiplicar 5 * 5 es :  25\n",
      "El resultado de dividir 5 * 5 es :  1.0\n",
      "El resultado del cociente de 5 // 5 es :  1\n",
      "El resultado del modulo de 5 % 5 es :  25\n",
      "El resultado de elevar 5 al cuadrado es :  25\n"
     ]
    }
   ],
   "source": [
    "# Suma\n",
    "suma = 5 + 5\n",
    "print(\"El resultado de sumar 5 + 5 es : \", suma)\n",
    "\n",
    "# Resta\n",
    "resta = 5 - 5\n",
    "print(\"El resultado de restar 5 - 5 es : \", resta)\n",
    "\n",
    "# Multiplicación \n",
    "multiplicacion = 5 * 5\n",
    "print(\"El resultado de multiplicar 5 * 5 es : \", multiplicacion)\n",
    "\n",
    "# División\n",
    "division = 5 / 5\n",
    "print(\"El resultado de dividir 5 * 5 es : \", division)\n",
    "\n",
    "# Cociente\n",
    "cociente = 5 // 5\n",
    "print(\"El resultado del cociente de 5 // 5 es : \", cociente)\n",
    "\n",
    "# Modulo\n",
    "modulo = 5 * 5\n",
    "print(\"El resultado del modulo de 5 % 5 es : \", modulo)\n",
    "\n",
    "# Exponente\n",
    "exponente = 5 ** 2\n",
    "print(\"El resultado de elevar 5 al cuadrado es : \", exponente)"
   ]
  },
  {
   "cell_type": "code",
   "execution_count": 2,
   "id": "46ccb755",
   "metadata": {
    "execution": {
     "iopub.execute_input": "2022-01-29T07:50:51.452440Z",
     "iopub.status.busy": "2022-01-29T07:50:51.451652Z",
     "iopub.status.idle": "2022-01-29T07:50:51.456169Z",
     "shell.execute_reply": "2022-01-29T07:50:51.455033Z",
     "shell.execute_reply.started": "2022-01-29T07:19:08.502557Z"
    },
    "papermill": {
     "duration": 0.022533,
     "end_time": "2022-01-29T07:50:51.456377",
     "exception": false,
     "start_time": "2022-01-29T07:50:51.433844",
     "status": "completed"
    },
    "tags": []
   },
   "outputs": [
    {
     "name": "stdout",
     "output_type": "stream",
     "text": [
      "La raiz cuadrada de 4 es :  2.0\n"
     ]
    }
   ],
   "source": [
    "# Calcular la raiz cuadrada sin utilizar librerias\n",
    "raiz_simple = 4 ** (0.5)\n",
    "print(\"La raiz cuadrada de 4 es : \", raiz_simple)"
   ]
  },
  {
   "cell_type": "code",
   "execution_count": 3,
   "id": "00a8ba9b",
   "metadata": {
    "execution": {
     "iopub.execute_input": "2022-01-29T07:50:51.490887Z",
     "iopub.status.busy": "2022-01-29T07:50:51.490117Z",
     "iopub.status.idle": "2022-01-29T07:50:51.493067Z",
     "shell.execute_reply": "2022-01-29T07:50:51.493556Z",
     "shell.execute_reply.started": "2022-01-29T07:20:23.768742Z"
    },
    "papermill": {
     "duration": 0.022332,
     "end_time": "2022-01-29T07:50:51.493759",
     "exception": false,
     "start_time": "2022-01-29T07:50:51.471427",
     "status": "completed"
    },
    "tags": []
   },
   "outputs": [
    {
     "name": "stdout",
     "output_type": "stream",
     "text": [
      "La raiz cuadrada de 4 es :  2.0\n"
     ]
    }
   ],
   "source": [
    "# Calcular la raiz cuadrada utilizando librerias\n",
    "import math\n",
    "raiz_con_libreria = math.sqrt(4)\n",
    "print(\"La raiz cuadrada de 4 es : \", raiz_con_libreria)"
   ]
  },
  {
   "cell_type": "markdown",
   "id": "28e280bf",
   "metadata": {
    "papermill": {
     "duration": 0.014266,
     "end_time": "2022-01-29T07:50:51.522622",
     "exception": false,
     "start_time": "2022-01-29T07:50:51.508356",
     "status": "completed"
    },
    "tags": []
   },
   "source": [
    "La explicación del porque es el mismo resultado obtenido de la funcion *sqrt()* y elevar a la 1/2, no es cuestion del lenguaje es cuestion matematica donde la raiz cuadrada puede ser resulta como un exponente a la 1/2."
   ]
  },
  {
   "cell_type": "markdown",
   "id": "2e5c460b",
   "metadata": {
    "papermill": {
     "duration": 0.014128,
     "end_time": "2022-01-29T07:50:51.551091",
     "exception": false,
     "start_time": "2022-01-29T07:50:51.536963",
     "status": "completed"
    },
    "tags": []
   },
   "source": [
    "### Clase #11 ¿Qué es una variable?\n",
    "\n",
    "Una variable es una pieza contenedora de información, la cual posee un nombre como identificador. Una variable puede contener elementos de distintos tipos.\n",
    "\n",
    "Existen ciertas normas que se deben cumplir para declarar una variable en python:\n",
    "\n",
    "* El nombre de la variable NO debe iniciar con un numero.\n",
    "\n",
    "* El nombre debe estar en minúsculas.\n",
    "\n",
    "* Si el nombre de la variable posee varias palabras se deben separar con “_” ya que no esta permitido el uso de espacio.\n",
    "\n",
    "> Una variable viene a representar un espacio en memoria al que se le asigna un dato."
   ]
  },
  {
   "cell_type": "code",
   "execution_count": 4,
   "id": "9c129bca",
   "metadata": {
    "execution": {
     "iopub.execute_input": "2022-01-29T07:50:51.587113Z",
     "iopub.status.busy": "2022-01-29T07:50:51.586290Z",
     "iopub.status.idle": "2022-01-29T07:50:51.590181Z",
     "shell.execute_reply": "2022-01-29T07:50:51.589536Z",
     "shell.execute_reply.started": "2022-01-29T07:37:51.143026Z"
    },
    "papermill": {
     "duration": 0.023725,
     "end_time": "2022-01-29T07:50:51.590321",
     "exception": false,
     "start_time": "2022-01-29T07:50:51.566596",
     "status": "completed"
    },
    "tags": []
   },
   "outputs": [
    {
     "name": "stdout",
     "output_type": "stream",
     "text": [
      "La variable es de tipo :  <class 'int'>\n",
      "La variable es de tipo :  <class 'bool'>\n"
     ]
    }
   ],
   "source": [
    "# En python las variables pueden definirse de la siguiente manera\n",
    "var = 1\n",
    "print(\"La variable es de tipo : \", type(var))\n",
    "\n",
    "# Sin embargo python es un lenguaje de typado dinamico por lo que nosotros podriamos redefinir esta variable\n",
    "var = True\n",
    "print(\"La variable es de tipo : \", type(var))\n",
    "\n",
    "# Es decir que podemos cambiar el tipo de dato de una variable y esto no presentara algun problema \n",
    "# al menos hasta que interfiera en alguna operacion durante su ejecucion.\n",
    "\n",
    "# Esta clase de problemas pueden prevenirse con librerias como mypy."
   ]
  },
  {
   "cell_type": "markdown",
   "id": "962d182c",
   "metadata": {
    "papermill": {
     "duration": 0.01428,
     "end_time": "2022-01-29T07:50:51.619191",
     "exception": false,
     "start_time": "2022-01-29T07:50:51.604911",
     "status": "completed"
    },
    "tags": []
   },
   "source": [
    "## Semana 2: ¿Qué aprenderás?\n",
    "\n",
    "Durante la segunda semana continuarás por el camino de la programación con Python, el lenguaje más utilizado en Data Science. 🐍\n",
    "\n",
    "Esta semana aprenderás con Python lo siguiente:\n",
    "\n",
    "* Tipos de datos y conversiones de ellos.\n",
    "* Operadores.\n",
    "* Condicionales if.\n",
    "* Tus primeras funciones para no repetir el mismo código.\n",
    "* Manejo de cadenas de texto."
   ]
  },
  {
   "cell_type": "markdown",
   "id": "0bb0be18",
   "metadata": {
    "papermill": {
     "duration": 0.01424,
     "end_time": "2022-01-29T07:50:51.648056",
     "exception": false,
     "start_time": "2022-01-29T07:50:51.633816",
     "status": "completed"
    },
    "tags": []
   },
   "source": [
    "### Clase #12 : Los primitivos: tipos de datos sencillos\n",
    "\n",
    "Los tipos de datos básicos en Python son los siguientes:\n",
    "\n",
    "* **Número Entero (int):** Este tipo de dato se corresponde con números enteros, es decir, sin parte decimal; por ejemplo [0,1,2,3,4...]\n",
    "\n",
    "* **Número Decimal (float):** Este tipo de dato se corresponde con números reales con parte decimal. Cabe destacar que el separador decimal en Python es el punto (.) y no la coma (,). ejemplo [0.0, 1.0, 2.0, 3.0...]\n",
    "\n",
    "* **Cadena de Texto (str):** Este tipo de datos se corresponde con una cadena de caracteres.\n",
    "\n",
    "* **Booleano (bool):** Este tipo de dato reconoce solamente dos valores: Verdadero (True) y Falso (False)"
   ]
  },
  {
   "cell_type": "code",
   "execution_count": 5,
   "id": "9f6d2705",
   "metadata": {
    "execution": {
     "iopub.execute_input": "2022-01-29T07:50:51.684645Z",
     "iopub.status.busy": "2022-01-29T07:50:51.683932Z",
     "iopub.status.idle": "2022-01-29T07:50:51.687162Z",
     "shell.execute_reply": "2022-01-29T07:50:51.686581Z",
     "shell.execute_reply.started": "2022-01-29T07:50:12.792862Z"
    },
    "papermill": {
     "duration": 0.024675,
     "end_time": "2022-01-29T07:50:51.687297",
     "exception": false,
     "start_time": "2022-01-29T07:50:51.662622",
     "status": "completed"
    },
    "tags": []
   },
   "outputs": [
    {
     "name": "stdout",
     "output_type": "stream",
     "text": [
      "El tipo de dato de la variable_1 es :  <class 'int'>\n",
      "El tipo de dato de la variable_1 es :  <class 'float'>\n",
      "El tipo de dato de la variable_1 es :  <class 'str'>\n",
      "El tipo de dato de la variable_1 es :  <class 'bool'>\n"
     ]
    }
   ],
   "source": [
    "# Tipos de datos basicos en python\n",
    "variable_1 = 1\n",
    "print(\"El tipo de dato de la variable_1 es : \", type(variable_1))\n",
    "variable_2 = 1.5\n",
    "print(\"El tipo de dato de la variable_1 es : \", type(variable_2))\n",
    "variable_3 = \"1\"\n",
    "print(\"El tipo de dato de la variable_1 es : \", type(variable_3))\n",
    "variable_4 = True\n",
    "print(\"El tipo de dato de la variable_1 es : \", type(variable_4))\n",
    "\n",
    "\n"
   ]
  }
 ],
 "metadata": {
  "kernelspec": {
   "display_name": "Python 3",
   "language": "python",
   "name": "python3"
  },
  "language_info": {
   "codemirror_mode": {
    "name": "ipython",
    "version": 3
   },
   "file_extension": ".py",
   "mimetype": "text/x-python",
   "name": "python",
   "nbconvert_exporter": "python",
   "pygments_lexer": "ipython3",
   "version": "3.7.12"
  },
  "papermill": {
   "default_parameters": {},
   "duration": 11.115372,
   "end_time": "2022-01-29T07:50:52.313649",
   "environment_variables": {},
   "exception": null,
   "input_path": "__notebook__.ipynb",
   "output_path": "__notebook__.ipynb",
   "parameters": {},
   "start_time": "2022-01-29T07:50:41.198277",
   "version": "2.3.3"
  }
 },
 "nbformat": 4,
 "nbformat_minor": 5
}
